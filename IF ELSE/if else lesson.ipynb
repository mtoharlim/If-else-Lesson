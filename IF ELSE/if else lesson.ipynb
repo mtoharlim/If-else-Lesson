{
 "cells": [
  {
   "cell_type": "code",
   "execution_count": 3,
   "metadata": {},
   "outputs": [
    {
     "name": "stdout",
     "output_type": "stream",
     "text": [
      "a is less than b\n",
      " no sure\n"
     ]
    }
   ],
   "source": [
    "a = 5\n",
    "b = 6\n",
    "if a < b:\n",
    "    print(\"a is less than b\")\n",
    "print(\" no sure\")"
   ]
  },
  {
   "cell_type": "code",
   "execution_count": 5,
   "metadata": {},
   "outputs": [
    {
     "name": "stdout",
     "output_type": "stream",
     "text": [
      "c is not less than d\n",
      "i don't think c id less than d\n",
      "out of line\n"
     ]
    }
   ],
   "source": [
    "c = 6\n",
    "d = 5\n",
    "if c < d:\n",
    "    print(\" c is less than d\")\n",
    "else:\n",
    "    print (\"c is not less than d\")\n",
    "    print (\"i don't think c id less than d\")\n",
    "print(\"out of line\")"
   ]
  },
  {
   "cell_type": "code",
   "execution_count": 12,
   "metadata": {},
   "outputs": [
    {
     "name": "stdout",
     "output_type": "stream",
     "text": [
      "e is great than f by more than 10\n"
     ]
    }
   ],
   "source": [
    "e = 19\n",
    "f = 8\n",
    "if e < f:\n",
    "    print(\"e is less than f\")\n",
    "elif e == f :\n",
    "    print(\"e equal to f\")\n",
    "elif e > f + 10:\n",
    "    print(\"e is great than f by more than 10\")\n",
    "else:\n",
    "    print (\"e is great than f\")"
   ]
  },
  {
   "cell_type": "code",
   "execution_count": 16,
   "metadata": {},
   "outputs": [
    {
     "name": "stdout",
     "output_type": "stream",
     "text": [
      "g is great than h\n"
     ]
    }
   ],
   "source": [
    "g = 9\n",
    "h = 8\n",
    "if g<h:\n",
    "    print(\"g is less than h\")\n",
    "else:\n",
    "    if g == h:\n",
    "        print(\"g is equal to h\")\n",
    "    else:\n",
    "        print(\"g is great than h\")"
   ]
  },
  {
   "cell_type": "code",
   "execution_count": 18,
   "metadata": {},
   "outputs": [
    {
     "name": "stdout",
     "output_type": "stream",
     "text": [
      "bmi:\n",
      "37.5\n",
      "YK\n",
      "is overweight\n"
     ]
    }
   ],
   "source": [
    "name = \"YK\"\n",
    "height_m = 2\n",
    "weight_kg = 150\n",
    "\n",
    "bmi = weight_kg / (height_m ** 2)\n",
    "print(\"bmi:\")\n",
    "print(bmi)\n",
    "if bmi < 25:\n",
    "    print(name)\n",
    "    print(\"is not overweight\")\n",
    "else:\n",
    "    print(name)\n",
    "    print(\"is overweight\")\n"
   ]
  }
 ],
 "metadata": {
  "interpreter": {
   "hash": "b3ba2566441a7c06988d0923437866b63cedc61552a5af99d1f4fb67d367b25f"
  },
  "kernelspec": {
   "display_name": "Python 3.9.7 64-bit ('base': conda)",
   "language": "python",
   "name": "python3"
  },
  "language_info": {
   "codemirror_mode": {
    "name": "ipython",
    "version": 3
   },
   "file_extension": ".py",
   "mimetype": "text/x-python",
   "name": "python",
   "nbconvert_exporter": "python",
   "pygments_lexer": "ipython3",
   "version": "3.9.7"
  },
  "orig_nbformat": 4
 },
 "nbformat": 4,
 "nbformat_minor": 2
}
